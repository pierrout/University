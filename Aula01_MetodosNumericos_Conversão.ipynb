{
  "nbformat": 4,
  "nbformat_minor": 0,
  "metadata": {
    "colab": {
      "name": "Aula01_MetodosNumericos_Conversão.ipynb",
      "provenance": [],
      "authorship_tag": "ABX9TyOJ7r2gjj1Y+0PTLPS8L94v",
      "include_colab_link": true
    },
    "kernelspec": {
      "name": "python3",
      "display_name": "Python 3"
    },
    "language_info": {
      "name": "python"
    }
  },
  "cells": [
    {
      "cell_type": "markdown",
      "metadata": {
        "id": "view-in-github",
        "colab_type": "text"
      },
      "source": [
        "<a href=\"https://colab.research.google.com/github/pierrout/University/blob/main/Aula01_MetodosNumericos_Convers%C3%A3o.ipynb\" target=\"_parent\"><img src=\"https://colab.research.google.com/assets/colab-badge.svg\" alt=\"Open In Colab\"/></a>"
      ]
    },
    {
      "cell_type": "markdown",
      "metadata": {
        "id": "bMpQW0z8v0fT"
      },
      "source": [
        "\n",
        "\n",
        "> **Meu primeiro programa de métodos** **numéricos**\n",
        "\n"
      ]
    },
    {
      "cell_type": "code",
      "metadata": {
        "colab": {
          "base_uri": "https://localhost:8080/"
        },
        "id": "-Oyed20ywEB0",
        "outputId": "9a7b37c3-1aa0-4f4d-f066-cd02e64f295e"
      },
      "source": [
        "variavel = 10\n",
        "print('o valor da variável é: {}'.format(variavel))"
      ],
      "execution_count": 3,
      "outputs": [
        {
          "output_type": "stream",
          "text": [
            "o valor da variável é: 10\n"
          ],
          "name": "stdout"
        }
      ]
    },
    {
      "cell_type": "code",
      "metadata": {
        "id": "PE4V8ZxswV_k"
      },
      "source": [
        "numero_decimal = 27\n",
        "numero_binario = bin(numero_decimal)"
      ],
      "execution_count": 4,
      "outputs": []
    },
    {
      "cell_type": "code",
      "metadata": {
        "colab": {
          "base_uri": "https://localhost:8080/"
        },
        "id": "3_9AEx5zxKvT",
        "outputId": "2fef110e-1e28-4bb3-fc14-bfce74f2efb8"
      },
      "source": [
        "print(\"O valor decimal é: {}\".format(numero_decimal))\n",
        "print(\"O valor binario é: {}\".format(numero_binario))"
      ],
      "execution_count": 5,
      "outputs": [
        {
          "output_type": "stream",
          "text": [
            "O valor decimal é: 27\n",
            "O valor binario é: 0b11011\n"
          ],
          "name": "stdout"
        }
      ]
    },
    {
      "cell_type": "code",
      "metadata": {
        "colab": {
          "base_uri": "https://localhost:8080/"
        },
        "id": "6vspISuBx45r",
        "outputId": "495f8a9a-e1f5-431b-b8ab-5a029d0785fe"
      },
      "source": [
        "#0b é o prefixo\n",
        "binario_sem_prefixo = numero_binario.replace(\"0b\",\"\")\n",
        "print(\"O valor binario é: {}\".format(binario_sem_prefixo))"
      ],
      "execution_count": 6,
      "outputs": [
        {
          "output_type": "stream",
          "text": [
            "O valor binario é: 11011\n"
          ],
          "name": "stdout"
        }
      ]
    },
    {
      "cell_type": "markdown",
      "metadata": {
        "id": "9L2bvehUyVly"
      },
      "source": [
        "# **Binário para** **decimal**\n",
        "11011 em decimal ?\n",
        "\n",
        " ((1 × 2^**4**) + (1 × 2^**3**) + (0 × 2^**2**) + (1 × 2^**1**) + (1 × 2^**0** ))\n",
        "\n",
        " (16 + 0 + 4 + 0 + 1)\n",
        " \n",
        " 27\n",
        "\n",
        "\n",
        "\n",
        "\n"
      ]
    },
    {
      "cell_type": "code",
      "metadata": {
        "colab": {
          "base_uri": "https://localhost:8080/"
        },
        "id": "vuDeDhNWybmZ",
        "outputId": "f3743c8b-6d94-472f-8cb5-901e70711d2e"
      },
      "source": [
        "#numero_binario = str(11011)\n",
        "print(int(numero_binario,2))"
      ],
      "execution_count": 7,
      "outputs": [
        {
          "output_type": "stream",
          "text": [
            "27\n"
          ],
          "name": "stdout"
        }
      ]
    },
    {
      "cell_type": "markdown",
      "metadata": {
        "id": "ACSOaiEyhPq5"
      },
      "source": [
        "**Decimal para octal**"
      ]
    },
    {
      "cell_type": "code",
      "metadata": {
        "colab": {
          "base_uri": "https://localhost:8080/"
        },
        "id": "M9A41EO-hVeZ",
        "outputId": "c4205f08-dd28-418a-c524-92753e6cb887"
      },
      "source": [
        "\n",
        "numero_octal = oct(numero_decimal)\n",
        "print(\"O valor octal é: {}\".format(numero_octal))"
      ],
      "execution_count": 8,
      "outputs": [
        {
          "output_type": "stream",
          "text": [
            "O valor octal é: 0o33\n"
          ],
          "name": "stdout"
        }
      ]
    },
    {
      "cell_type": "markdown",
      "metadata": {
        "id": "KIkBPjJZiucZ"
      },
      "source": [
        "# **Octal para decimal**\n",
        "33 em decimal ??\n",
        "\n",
        "((3 x 8^**1**) + (3 x 8^**0**))\n",
        "\n",
        "24 + 3\n",
        "\n",
        "27"
      ]
    },
    {
      "cell_type": "code",
      "metadata": {
        "colab": {
          "base_uri": "https://localhost:8080/"
        },
        "id": "8KhRaYK7iyYI",
        "outputId": "a5e3299e-badd-4c28-db61-92a439a2f070"
      },
      "source": [
        "#numero_octal = str(33)\n",
        "print(int(numero_octal,8))"
      ],
      "execution_count": 9,
      "outputs": [
        {
          "output_type": "stream",
          "text": [
            "27\n"
          ],
          "name": "stdout"
        }
      ]
    },
    {
      "cell_type": "markdown",
      "metadata": {
        "id": "Pkwxy9D9jLRq"
      },
      "source": [
        "# **Decimal para hexadecimal**\n",
        "\n",
        "*A = 10, B = 11, C = 12, D = 13, E = 14, F = 15*\n",
        "\n",
        "\n"
      ]
    },
    {
      "cell_type": "code",
      "metadata": {
        "colab": {
          "base_uri": "https://localhost:8080/"
        },
        "id": "2UnZPnUJjOO4",
        "outputId": "4e292ed7-4206-44b3-c074-f920cdf15571"
      },
      "source": [
        "numero_hexadecimal = hex(numero_decimal)\n",
        "print(\"O valor hexadecimal é: {}\".format(numero_hexadecimal))"
      ],
      "execution_count": 10,
      "outputs": [
        {
          "output_type": "stream",
          "text": [
            "O valor hexadecimal é: 0x1b\n"
          ],
          "name": "stdout"
        }
      ]
    },
    {
      "cell_type": "markdown",
      "metadata": {
        "id": "PaazkjlVj0p9"
      },
      "source": [
        "# **Hexadecimal para decimal**\n",
        "\n",
        "1b em decimal ??\n",
        "\n",
        "((1 x 16^1) + (b x 16^0))\n",
        "\n",
        "16 + 11\n",
        "\n",
        "27"
      ]
    },
    {
      "cell_type": "code",
      "metadata": {
        "colab": {
          "base_uri": "https://localhost:8080/"
        },
        "id": "BZFJrkKwj4O5",
        "outputId": "190d7754-813d-4e7a-cc1f-ea62a9bc2907"
      },
      "source": [
        "#Hexadecimal é 1b, não se esqueça que há o prefixo apenas para sinalizar a linguagem o tipo de número !\n",
        "print(int(numero_hexadecimal,16))"
      ],
      "execution_count": 11,
      "outputs": [
        {
          "output_type": "stream",
          "text": [
            "27\n"
          ],
          "name": "stdout"
        }
      ]
    }
  ]
}